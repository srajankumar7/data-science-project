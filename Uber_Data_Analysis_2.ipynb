{
  "metadata": {
    "kernelspec": {
      "name": "python3",
      "display_name": "Python 3",
      "language": "python"
    },
    "language_info": {
      "name": "python",
      "version": "3.10.13",
      "mimetype": "text/x-python",
      "codemirror_mode": {
        "name": "ipython",
        "version": 3
      },
      "pygments_lexer": "ipython3",
      "nbconvert_exporter": "python",
      "file_extension": ".py"
    },
    "kaggle": {
      "accelerator": "none",
      "dataSources": [
        {
          "sourceId": 793057,
          "sourceType": "datasetVersion",
          "datasetId": 360
        }
      ],
      "dockerImageVersionId": 30664,
      "isInternetEnabled": true,
      "language": "python",
      "sourceType": "notebook",
      "isGpuEnabled": false
    },
    "colab": {
      "provenance": []
    }
  },
  "nbformat_minor": 0,
  "nbformat": 4,
  "cells": [
    {
      "source": [
        "import kagglehub\n",
        "organizations_fivethirtyeight_uber_pickups_in_new_york_city_path = kagglehub.dataset_download('organizations/fivethirtyeight/uber-pickups-in-new-york-city')\n",
        "\n",
        "print('Data source import complete.')\n"
      ],
      "metadata": {
        "id": "a3EG7ZXbWutI"
      },
      "cell_type": "code",
      "outputs": [],
      "execution_count": null
    },
    {
      "cell_type": "markdown",
      "source": [
        "This notebook contains a basic analysis through some visualizations of the Uber Pickups in New York City data set.\n",
        "\n",
        "The analysis is broken up into 3 sections:\n",
        "- Data Loading and Preparation.\n",
        "- Exploration and visualization of pickups from April to September 2014.\n",
        "- Conclusion."
      ],
      "metadata": {
        "id": "Yt9Ku6aUWutM"
      }
    },
    {
      "cell_type": "markdown",
      "source": [
        "# 1. Data Loading and Preparation"
      ],
      "metadata": {
        "id": "S2UOhRpsWutQ"
      }
    },
    {
      "cell_type": "markdown",
      "source": [
        "### 1.1 Loading Modules"
      ],
      "metadata": {
        "id": "whAkkzJdWutR"
      }
    },
    {
      "cell_type": "code",
      "source": [
        "import pandas as pd\n",
        "import numpy as np\n",
        "\n",
        "#Visualization modules\n",
        "import matplotlib.pyplot as plt\n",
        "import seaborn as sns\n",
        "\n",
        "\n",
        "%matplotlib inline\n",
        "from matplotlib import cm #Colormap"
      ],
      "metadata": {
        "execution": {
          "iopub.status.busy": "2025-04-23T11:08:50.079273Z",
          "iopub.execute_input": "2025-04-23T11:08:50.079694Z",
          "iopub.status.idle": "2025-04-23T11:08:50.945826Z",
          "shell.execute_reply.started": "2025-04-23T11:08:50.079662Z",
          "shell.execute_reply": "2025-04-23T11:08:50.9448Z"
        },
        "trusted": true,
        "id": "iF2yJTMXWutR"
      },
      "outputs": [],
      "execution_count": null
    },
    {
      "cell_type": "markdown",
      "source": [
        "### 1.2 Loading Data"
      ],
      "metadata": {
        "id": "_2AvVt0IWutS"
      }
    },
    {
      "cell_type": "code",
      "source": [
        "#Load the datasets\n",
        "\n",
        "df_apr14=pd.read_csv(\"/kaggle/input/uber-pickups-in-new-york-city/uber-raw-data-apr14.csv\")\n",
        "df_may14=pd.read_csv(\"/kaggle/input/uber-pickups-in-new-york-city/uber-raw-data-may14.csv\")\n",
        "df_jun14=pd.read_csv(\"/kaggle/input/uber-pickups-in-new-york-city/uber-raw-data-jun14.csv\")\n",
        "df_jul14=pd.read_csv(\"/kaggle/input/uber-pickups-in-new-york-city/uber-raw-data-jul14.csv\")\n",
        "df_aug14=pd.read_csv(\"/kaggle/input/uber-pickups-in-new-york-city/uber-raw-data-aug14.csv\")\n",
        "df_sep14=pd.read_csv(\"/kaggle/input/uber-pickups-in-new-york-city/uber-raw-data-sep14.csv\")"
      ],
      "metadata": {
        "scrolled": true,
        "execution": {
          "iopub.status.busy": "2025-04-24T08:50:49.458734Z",
          "iopub.execute_input": "2025-04-24T08:50:49.459616Z",
          "iopub.status.idle": "2025-04-24T08:50:54.714183Z",
          "shell.execute_reply.started": "2025-04-24T08:50:49.459569Z",
          "shell.execute_reply": "2025-04-24T08:50:54.713392Z"
        },
        "trusted": true,
        "id": "h6OmBfk7WutT"
      },
      "outputs": [],
      "execution_count": null
    },
    {
      "cell_type": "code",
      "source": [
        "#Merge the dataframes into one\n",
        "df = pd.concat([df_apr14, df_may14, df_jun14, df_jul14, df_aug14, df_sep14], ignore_index=True)"
      ],
      "metadata": {
        "execution": {
          "iopub.status.busy": "2025-04-23T11:09:04.14979Z",
          "iopub.execute_input": "2025-04-23T11:09:04.15013Z",
          "iopub.status.idle": "2025-04-23T11:09:04.318196Z",
          "shell.execute_reply.started": "2025-04-23T11:09:04.150105Z",
          "shell.execute_reply": "2025-04-23T11:09:04.31711Z"
        },
        "trusted": true,
        "id": "GuezokuaWutT"
      },
      "outputs": [],
      "execution_count": null
    },
    {
      "cell_type": "markdown",
      "source": [
        "### 1.3 Data Preparation"
      ],
      "metadata": {
        "id": "2qadLzEhWutU"
      }
    },
    {
      "cell_type": "code",
      "source": [
        "df.head()"
      ],
      "metadata": {
        "scrolled": true,
        "execution": {
          "iopub.status.busy": "2025-04-23T11:09:07.159949Z",
          "iopub.execute_input": "2025-04-23T11:09:07.16031Z",
          "iopub.status.idle": "2025-04-23T11:09:07.175923Z",
          "shell.execute_reply.started": "2025-04-23T11:09:07.160275Z",
          "shell.execute_reply": "2025-04-23T11:09:07.174891Z"
        },
        "trusted": true,
        "id": "oKpQaNf1WutU"
      },
      "outputs": [],
      "execution_count": null
    },
    {
      "cell_type": "code",
      "source": [
        "df.info()"
      ],
      "metadata": {
        "execution": {
          "iopub.status.busy": "2025-04-23T11:09:09.29006Z",
          "iopub.execute_input": "2025-04-23T11:09:09.290583Z",
          "iopub.status.idle": "2025-04-23T11:09:09.302071Z",
          "shell.execute_reply.started": "2025-04-23T11:09:09.290546Z",
          "shell.execute_reply": "2025-04-23T11:09:09.300894Z"
        },
        "trusted": true,
        "id": "CZwhwUU4WutV"
      },
      "outputs": [],
      "execution_count": null
    },
    {
      "cell_type": "code",
      "source": [
        "# Renaming the Date/Time Column\n",
        "df = df.rename(columns={'Date/Time': 'Date_time'})\n",
        "\n",
        "# Converting the Date_time type into Datetime\n",
        "df['Date_time'] = pd.to_datetime(df['Date_time'])\n",
        "\n",
        "# Adding useful columns\n",
        "df['Month'] = df['Date_time'].dt.month_name()\n",
        "df['Weekday'] = df['Date_time'].dt.day_name()\n",
        "df['Day'] = df['Date_time'].dt.day\n",
        "df['Hour'] = df['Date_time'].dt.hour\n",
        "df['Minute'] = df['Date_time'].dt.minute\n"
      ],
      "metadata": {
        "execution": {
          "iopub.status.busy": "2025-04-23T11:09:11.460354Z",
          "iopub.execute_input": "2025-04-23T11:09:11.460733Z",
          "iopub.status.idle": "2025-04-23T11:09:16.59647Z",
          "shell.execute_reply.started": "2025-04-23T11:09:11.460703Z",
          "shell.execute_reply": "2025-04-23T11:09:16.595386Z"
        },
        "trusted": true,
        "id": "AKFDj1MkWutW"
      },
      "outputs": [],
      "execution_count": null
    },
    {
      "cell_type": "code",
      "source": [
        "df.head()"
      ],
      "metadata": {
        "execution": {
          "iopub.status.busy": "2025-04-23T11:09:19.020385Z",
          "iopub.execute_input": "2025-04-23T11:09:19.021337Z",
          "iopub.status.idle": "2025-04-23T11:09:19.040012Z",
          "shell.execute_reply.started": "2025-04-23T11:09:19.021278Z",
          "shell.execute_reply": "2025-04-23T11:09:19.038942Z"
        },
        "trusted": true,
        "id": "GWOIalneWutW"
      },
      "outputs": [],
      "execution_count": null
    },
    {
      "cell_type": "code",
      "source": [
        "df.info()"
      ],
      "metadata": {
        "execution": {
          "iopub.status.busy": "2025-04-23T11:09:21.139416Z",
          "iopub.execute_input": "2025-04-23T11:09:21.140417Z",
          "iopub.status.idle": "2025-04-23T11:09:21.150498Z",
          "shell.execute_reply.started": "2025-04-23T11:09:21.140382Z",
          "shell.execute_reply": "2025-04-23T11:09:21.14934Z"
        },
        "trusted": true,
        "id": "_LTyooVgWutX"
      },
      "outputs": [],
      "execution_count": null
    },
    {
      "cell_type": "code",
      "source": [
        "df.describe(include = 'all')"
      ],
      "metadata": {
        "execution": {
          "iopub.status.busy": "2025-04-23T11:09:23.459099Z",
          "iopub.execute_input": "2025-04-23T11:09:23.459841Z",
          "iopub.status.idle": "2025-04-23T11:09:26.073493Z",
          "shell.execute_reply.started": "2025-04-23T11:09:23.459802Z",
          "shell.execute_reply": "2025-04-23T11:09:26.072406Z"
        },
        "trusted": true,
        "id": "4RtTskDOWutX"
      },
      "outputs": [],
      "execution_count": null
    },
    {
      "cell_type": "markdown",
      "source": [
        "# 2 Exploration and Visualization"
      ],
      "metadata": {
        "id": "N4FUk_j9WutY"
      }
    },
    {
      "cell_type": "markdown",
      "source": [
        "Through our exploration we are going to visualize and analyse:\n",
        "- The number of trips by hour\n",
        "- The number of trips by month\n",
        "- The number of trips by weekday\n",
        "- The number of trips by day\n",
        "\n",
        "\n",
        "- The number of trips by hour and month\n",
        "- The number of trips by weekday and hour\n",
        "- The number of trips by weekday and month\n",
        "\n"
      ],
      "metadata": {
        "id": "zU4YcQ3DWutY"
      }
    },
    {
      "cell_type": "markdown",
      "source": [
        "### 2.1 Trips by hour"
      ],
      "metadata": {
        "id": "xMrPCHYwWutZ"
      }
    },
    {
      "cell_type": "code",
      "source": [
        "#Grouping by Hour\n",
        "df_hour_grouped = df.groupby(['Hour']).count()\n",
        "\n",
        "#Creating the sub dataframe\n",
        "df_hour = pd.DataFrame({'Number_of_trips':df_hour_grouped.values[:,0]}, index = df_hour_grouped.index)\n",
        "\n",
        "df_hour.head()"
      ],
      "metadata": {
        "scrolled": true,
        "execution": {
          "iopub.status.busy": "2025-04-23T11:09:38.675193Z",
          "iopub.execute_input": "2025-04-23T11:09:38.675606Z",
          "iopub.status.idle": "2025-04-23T11:09:39.458198Z",
          "shell.execute_reply.started": "2025-04-23T11:09:38.675578Z",
          "shell.execute_reply": "2025-04-23T11:09:39.457209Z"
        },
        "trusted": true,
        "id": "gxZ5Zm4xWutZ"
      },
      "outputs": [],
      "execution_count": null
    },
    {
      "cell_type": "markdown",
      "source": [
        "#### Plotting the results"
      ],
      "metadata": {
        "id": "QiuT3XuJWuta"
      }
    },
    {
      "cell_type": "code",
      "source": [
        "df_hour.plot(kind='bar', figsize=(8,6))\n",
        "\n",
        "plt.ylabel('Number of Trips')\n",
        "plt.title('Trips by Hour')\n",
        "\n",
        "plt.show()"
      ],
      "metadata": {
        "execution": {
          "iopub.status.busy": "2025-04-23T11:09:43.384756Z",
          "iopub.execute_input": "2025-04-23T11:09:43.385144Z",
          "iopub.status.idle": "2025-04-23T11:09:43.831606Z",
          "shell.execute_reply.started": "2025-04-23T11:09:43.385114Z",
          "shell.execute_reply": "2025-04-23T11:09:43.830389Z"
        },
        "trusted": true,
        "id": "4aqg4PHBWuta"
      },
      "outputs": [],
      "execution_count": null
    },
    {
      "cell_type": "markdown",
      "source": [
        "#### Analysing the results"
      ],
      "metadata": {
        "id": "pX3ZaqEdWutb"
      }
    },
    {
      "cell_type": "code",
      "source": [
        "#The highest number of trips by hour\n",
        "max_Number_of_trips_hour = max(df_hour['Number_of_trips'])\n",
        "max_hour = df_hour[df_hour['Number_of_trips'] == 336190].index[0]\n",
        "\n",
        "print('The highest number of trips by hour is {} trip, that corresponds to the peak hour {}:00.'.format(max_Number_of_trips_hour, max_hour))\n"
      ],
      "metadata": {
        "execution": {
          "iopub.status.busy": "2025-04-23T11:09:49.544146Z",
          "iopub.execute_input": "2025-04-23T11:09:49.544547Z",
          "iopub.status.idle": "2025-04-23T11:09:49.552069Z",
          "shell.execute_reply.started": "2025-04-23T11:09:49.544517Z",
          "shell.execute_reply": "2025-04-23T11:09:49.550854Z"
        },
        "trusted": true,
        "id": "oCV7X9vtWutb"
      },
      "outputs": [],
      "execution_count": null
    },
    {
      "cell_type": "markdown",
      "source": [
        "We observe that the number of trips are higher around 16:00 and 18:00, with a spike at 17:00. It matches the end of a working day in the United States (16:30), the time when the workers go home.\n",
        "\n",
        "We can say that the majority of Uber's clients are workers."
      ],
      "metadata": {
        "id": "uQ7XVUPBWutc"
      }
    },
    {
      "cell_type": "markdown",
      "source": [
        "### 2.2 Trips by month"
      ],
      "metadata": {
        "id": "HBtD-FUqWutc"
      }
    },
    {
      "cell_type": "code",
      "source": [
        "#Grouping by Month\n",
        "df_month_grouped = df.groupby(['Month'], sort=False).count()\n",
        "\n",
        "#Creating the sub dataframe\n",
        "df_month = pd.DataFrame({'Number_of_trips':df_month_grouped.values[:,0]}, index = df_month_grouped.index)\n",
        "\n",
        "df_month"
      ],
      "metadata": {
        "execution": {
          "iopub.status.busy": "2025-04-23T11:10:01.819627Z",
          "iopub.execute_input": "2025-04-23T11:10:01.819982Z",
          "iopub.status.idle": "2025-04-23T11:10:02.658272Z",
          "shell.execute_reply.started": "2025-04-23T11:10:01.819953Z",
          "shell.execute_reply": "2025-04-23T11:10:02.65724Z"
        },
        "trusted": true,
        "id": "jTkuASRVWutc"
      },
      "outputs": [],
      "execution_count": null
    },
    {
      "cell_type": "markdown",
      "source": [
        "#### Plotting the results"
      ],
      "metadata": {
        "id": "hoxnur9aWutd"
      }
    },
    {
      "cell_type": "code",
      "source": [
        "df_month.plot(kind='bar', figsize=(8,6))\n",
        "\n",
        "plt.ylabel('Number of Trips')\n",
        "plt.title('Trips by Month')\n",
        "\n",
        "plt.show()"
      ],
      "metadata": {
        "execution": {
          "iopub.status.busy": "2025-04-23T11:10:06.919508Z",
          "iopub.execute_input": "2025-04-23T11:10:06.919889Z",
          "iopub.status.idle": "2025-04-23T11:10:07.178098Z",
          "shell.execute_reply.started": "2025-04-23T11:10:06.919859Z",
          "shell.execute_reply": "2025-04-23T11:10:07.176887Z"
        },
        "trusted": true,
        "id": "dRoAfidtWutd"
      },
      "outputs": [],
      "execution_count": null
    },
    {
      "cell_type": "markdown",
      "source": [
        "#### Analysing the results"
      ],
      "metadata": {
        "id": "LAG-YNHcWute"
      }
    },
    {
      "cell_type": "markdown",
      "source": [
        "We observe that the number of trips increases each month, with a peak increase between August and September."
      ],
      "metadata": {
        "id": "SE4E6g5IWute"
      }
    },
    {
      "cell_type": "code",
      "source": [
        "number_of_trips_aug = df_month.loc['August'].values\n",
        "number_of_trips_sep = df_month.loc['September'].values\n",
        "\n",
        "ratio_month = (((number_of_trips_sep - number_of_trips_aug) / number_of_trips_aug) * 100)[0]\n",
        "ratio_month = round(ratio_month)\n",
        "\n",
        "print('The ratio of the increase from August to September is {} %.'.format(ratio_month))\n"
      ],
      "metadata": {
        "execution": {
          "iopub.status.busy": "2025-04-23T11:10:13.289805Z",
          "iopub.execute_input": "2025-04-23T11:10:13.290819Z",
          "iopub.status.idle": "2025-04-23T11:10:13.296958Z",
          "shell.execute_reply.started": "2025-04-23T11:10:13.290782Z",
          "shell.execute_reply": "2025-04-23T11:10:13.295964Z"
        },
        "trusted": true,
        "id": "bPhUc5ynWute"
      },
      "outputs": [],
      "execution_count": null
    },
    {
      "cell_type": "markdown",
      "source": [
        "From our results we can say that from April to September 2014, Uber was in a continuous improvement process.\n"
      ],
      "metadata": {
        "id": "0zPCWuqwWutf"
      }
    },
    {
      "cell_type": "markdown",
      "source": [
        "### 2.3 Trips by weekday"
      ],
      "metadata": {
        "id": "jnzBnyhUWutf"
      }
    },
    {
      "cell_type": "code",
      "source": [
        "#Grouping by Weekday\n",
        "df_weekday_grouped = df.groupby(['Weekday'], sort = False).count()\n",
        "\n",
        "#Creating the grouped DataFrame\n",
        "df_weekday = pd.DataFrame({'Number_of_trips':df_weekday_grouped.values[:,0]}, index = df_weekday_grouped.index)\n",
        "\n",
        "df_weekday"
      ],
      "metadata": {
        "execution": {
          "iopub.status.busy": "2025-04-23T11:10:18.479908Z",
          "iopub.execute_input": "2025-04-23T11:10:18.480241Z",
          "iopub.status.idle": "2025-04-23T11:10:19.328517Z",
          "shell.execute_reply.started": "2025-04-23T11:10:18.480216Z",
          "shell.execute_reply": "2025-04-23T11:10:19.327491Z"
        },
        "trusted": true,
        "id": "4iSCaruVWutg"
      },
      "outputs": [],
      "execution_count": null
    },
    {
      "cell_type": "markdown",
      "source": [
        "#### Plotting the results"
      ],
      "metadata": {
        "id": "9YlqFkQmWutg"
      }
    },
    {
      "cell_type": "code",
      "source": [
        "df_weekday.plot(kind='bar', figsize=(8,6))\n",
        "\n",
        "plt.ylabel('Number of Trips')\n",
        "plt.title('Trips by Weekday')\n",
        "\n",
        "plt.show()"
      ],
      "metadata": {
        "execution": {
          "iopub.status.busy": "2025-04-23T11:10:23.240456Z",
          "iopub.execute_input": "2025-04-23T11:10:23.240842Z",
          "iopub.status.idle": "2025-04-23T11:10:23.525983Z",
          "shell.execute_reply.started": "2025-04-23T11:10:23.240815Z",
          "shell.execute_reply": "2025-04-23T11:10:23.524806Z"
        },
        "trusted": true,
        "id": "NqaSw6SfWuth"
      },
      "outputs": [],
      "execution_count": null
    },
    {
      "cell_type": "markdown",
      "source": [
        "#### Analysing the results"
      ],
      "metadata": {
        "id": "_ZuH1r4NWuti"
      }
    },
    {
      "cell_type": "code",
      "source": [
        "#Getting the minimum number of trips by weekday\n",
        "min_number_of_trips_weekday = min(df_weekday['Number_of_trips'])\n",
        "\n",
        "#Getting the weekday where the number of trips is minimal\n",
        "min_weekday = df_weekday[df_weekday['Number_of_trips'] == min_number_of_trips_weekday].index[0]\n",
        "\n",
        "print('The lowest number of trips by weekday is {} trip, that corresponds to {}.'.format(min_number_of_trips_weekday, min_weekday))\n"
      ],
      "metadata": {
        "execution": {
          "iopub.status.busy": "2025-04-23T11:10:28.120243Z",
          "iopub.execute_input": "2025-04-23T11:10:28.120649Z",
          "iopub.status.idle": "2025-04-23T11:10:28.127922Z",
          "shell.execute_reply.started": "2025-04-23T11:10:28.120616Z",
          "shell.execute_reply": "2025-04-23T11:10:28.126634Z"
        },
        "trusted": true,
        "id": "2Tijo1f0Wuti"
      },
      "outputs": [],
      "execution_count": null
    },
    {
      "cell_type": "code",
      "source": [
        "#Getting the mean number of trips in the weekend - Non working day\n",
        "mean_number_of_trips_weekend = ((df_weekday.loc['Saturday'] + df_weekday.loc['Sunday']) / 2).values\n",
        "\n",
        "#Getting the mean number of trips for the rest of the week- Working day\n",
        "mean_number_of_trips_workday = (((df_weekday.loc['Monday'] + df_weekday.loc['Tuesday'] + df_weekday.loc['Wednesday'] + df_weekday.loc['Thursday'] + df_weekday.loc['Friday'])/ 5).values)[0]\n",
        "\n",
        "ratio_weekday = (((mean_number_of_trips_workday - mean_number_of_trips_weekend) / mean_number_of_trips_weekend) * 100)[0]\n",
        "ratio_weekday = round(ratio_weekday, 1)\n",
        "\n",
        "print('The mean number of trips during working days is {}% higher than the mean number of trips during weekends.'.format(ratio_weekday))"
      ],
      "metadata": {
        "execution": {
          "iopub.status.busy": "2025-04-23T11:10:30.260226Z",
          "iopub.execute_input": "2025-04-23T11:10:30.261089Z",
          "iopub.status.idle": "2025-04-23T11:10:30.269611Z",
          "shell.execute_reply.started": "2025-04-23T11:10:30.261048Z",
          "shell.execute_reply": "2025-04-23T11:10:30.268377Z"
        },
        "trusted": true,
        "id": "db8QoG5vWutj"
      },
      "outputs": [],
      "execution_count": null
    },
    {
      "cell_type": "markdown",
      "source": [
        "As the ratio between workdays and weekends only 19.6%, and because of the low number of trips on Monday, it cannot be said that people use Uber on workdays more than on weekends.\n",
        "\n",
        "We need to investigate more to find out why the number of trips on mondays is as low."
      ],
      "metadata": {
        "id": "Ktywt_xjWutz"
      }
    },
    {
      "cell_type": "markdown",
      "source": [
        "### 2.4 Trips by day"
      ],
      "metadata": {
        "id": "zXYfvFCgWutz"
      }
    },
    {
      "cell_type": "code",
      "source": [
        "#Grouping by Day\n",
        "df_day_grouped = df.groupby(['Day']).count()\n",
        "\n",
        "#Creating the grouped DataFrame\n",
        "df_day = pd.DataFrame({'Number_of_trips':df_day_grouped.values[:,0]}, index = df_day_grouped.index)\n",
        "\n",
        "df_day.head()"
      ],
      "metadata": {
        "execution": {
          "iopub.status.busy": "2025-04-23T11:10:35.499682Z",
          "iopub.execute_input": "2025-04-23T11:10:35.500049Z",
          "iopub.status.idle": "2025-04-23T11:10:36.306233Z",
          "shell.execute_reply.started": "2025-04-23T11:10:35.500011Z",
          "shell.execute_reply": "2025-04-23T11:10:36.305086Z"
        },
        "trusted": true,
        "id": "UpLo1zTDWut0"
      },
      "outputs": [],
      "execution_count": null
    },
    {
      "cell_type": "markdown",
      "source": [
        "#### Plotting the results"
      ],
      "metadata": {
        "id": "KVOHDGiSWut0"
      }
    },
    {
      "cell_type": "code",
      "source": [
        "df_day.plot(kind='bar', figsize=(10,8))\n",
        "\n",
        "plt.ylabel('Number of Trips')\n",
        "plt.title('Trips by Day')\n",
        "\n",
        "plt.show()"
      ],
      "metadata": {
        "execution": {
          "iopub.status.busy": "2025-04-23T11:10:39.899698Z",
          "iopub.execute_input": "2025-04-23T11:10:39.900065Z",
          "iopub.status.idle": "2025-04-23T11:10:40.274476Z",
          "shell.execute_reply.started": "2025-04-23T11:10:39.900038Z",
          "shell.execute_reply": "2025-04-23T11:10:40.273401Z"
        },
        "trusted": true,
        "id": "Uu3JG1SCWut1"
      },
      "outputs": [],
      "execution_count": null
    },
    {
      "cell_type": "markdown",
      "source": [
        "#### Analysing the results"
      ],
      "metadata": {
        "id": "Wy15JXPRWut1"
      }
    },
    {
      "cell_type": "markdown",
      "source": [
        "The number of trips for the day 31 is a lot less than the others because April, June and September have 30 days.\n",
        "\n",
        "The day with the highest number of trips is the 30. There's not much variation from day to day."
      ],
      "metadata": {
        "id": "UiNbgVc_Wut2"
      }
    },
    {
      "cell_type": "markdown",
      "source": [
        "### 2.5 Trips by hour and month"
      ],
      "metadata": {
        "id": "goRv3rKKWut2"
      }
    },
    {
      "cell_type": "code",
      "source": [
        "#Grouping by Hour and Month\n",
        "df_hour_month_grouped = df.groupby(['Hour','Month']).count()\n",
        "\n",
        "#Creating the grouped DataFrame\n",
        "df_hour_month = pd.DataFrame({'Number_of_trips':df_hour_month_grouped.values[:,1]}, index = df_hour_month_grouped.index)\n",
        "\n",
        "df_hour_month.head(10)"
      ],
      "metadata": {
        "execution": {
          "iopub.status.busy": "2025-04-23T11:10:50.09944Z",
          "iopub.execute_input": "2025-04-23T11:10:50.100075Z",
          "iopub.status.idle": "2025-04-23T11:10:51.092244Z",
          "shell.execute_reply.started": "2025-04-23T11:10:50.100044Z",
          "shell.execute_reply": "2025-04-23T11:10:51.091029Z"
        },
        "trusted": true,
        "id": "6hlMBaqPWut2"
      },
      "outputs": [],
      "execution_count": null
    },
    {
      "cell_type": "code",
      "source": [
        "#Reseting the Index\n",
        "df_hour_month.reset_index(inplace= True)\n",
        "df_hour_month.head()"
      ],
      "metadata": {
        "execution": {
          "iopub.status.busy": "2025-04-23T11:10:53.924406Z",
          "iopub.execute_input": "2025-04-23T11:10:53.925492Z",
          "iopub.status.idle": "2025-04-23T11:10:53.936916Z",
          "shell.execute_reply.started": "2025-04-23T11:10:53.925457Z",
          "shell.execute_reply": "2025-04-23T11:10:53.935684Z"
        },
        "trusted": true,
        "id": "sQs9yhmnWut3"
      },
      "outputs": [],
      "execution_count": null
    },
    {
      "cell_type": "code",
      "source": [
        "#Preparing the Number of trips data\n",
        "#We create a Numpy array that includes the Number of trips data then reshape it to fit our\n",
        "data_hour_month = df_hour_month['Number_of_trips'].values.reshape(24,6)\n",
        "data_hour_month"
      ],
      "metadata": {
        "execution": {
          "iopub.status.busy": "2025-04-23T11:10:55.859922Z",
          "iopub.execute_input": "2025-04-23T11:10:55.860275Z",
          "iopub.status.idle": "2025-04-23T11:10:55.867745Z",
          "shell.execute_reply.started": "2025-04-23T11:10:55.860245Z",
          "shell.execute_reply": "2025-04-23T11:10:55.866691Z"
        },
        "trusted": true,
        "id": "2RuJ7oVjWut3"
      },
      "outputs": [],
      "execution_count": null
    },
    {
      "cell_type": "code",
      "source": [
        "df_hour_month = pd.DataFrame(data = data_hour_month, index = df_hour_month['Hour'].unique(), columns = df['Month'].unique())\n",
        "df_hour_month.head()"
      ],
      "metadata": {
        "execution": {
          "iopub.status.busy": "2025-04-23T11:11:00.980924Z",
          "iopub.execute_input": "2025-04-23T11:11:00.981299Z",
          "iopub.status.idle": "2025-04-23T11:11:01.241163Z",
          "shell.execute_reply.started": "2025-04-23T11:11:00.981268Z",
          "shell.execute_reply": "2025-04-23T11:11:01.239992Z"
        },
        "trusted": true,
        "id": "R1xdHbtWWut4"
      },
      "outputs": [],
      "execution_count": null
    },
    {
      "cell_type": "markdown",
      "source": [
        "#### Plotting the results"
      ],
      "metadata": {
        "id": "hEuzxQNZWut4"
      }
    },
    {
      "cell_type": "code",
      "source": [
        "df_hour_month.plot(kind='bar', figsize=(8,6), stacked=True)\n",
        "\n",
        "plt.xlabel('Hour')\n",
        "plt.ylabel('Number of Trips')\n",
        "plt.title('Trips by Hour and Month')\n",
        "\n",
        "plt.show()"
      ],
      "metadata": {
        "execution": {
          "iopub.status.busy": "2025-04-23T11:11:05.199671Z",
          "iopub.execute_input": "2025-04-23T11:11:05.200031Z",
          "iopub.status.idle": "2025-04-23T11:11:05.735265Z",
          "shell.execute_reply.started": "2025-04-23T11:11:05.200002Z",
          "shell.execute_reply": "2025-04-23T11:11:05.734175Z"
        },
        "trusted": true,
        "id": "JqPcy77bWut5"
      },
      "outputs": [],
      "execution_count": null
    },
    {
      "cell_type": "code",
      "source": [
        "df_hour_month.plot(kind='bar', figsize=(25,6),width=0.8)\n",
        "\n",
        "plt.xlabel('Hour')\n",
        "plt.ylabel('Number of Trips')\n",
        "plt.title('Trips by Hour and Month')\n",
        "\n",
        "plt.show()"
      ],
      "metadata": {
        "execution": {
          "iopub.status.busy": "2025-04-23T11:11:09.194469Z",
          "iopub.execute_input": "2025-04-23T11:11:09.194844Z",
          "iopub.status.idle": "2025-04-23T11:11:09.82348Z",
          "shell.execute_reply.started": "2025-04-23T11:11:09.19482Z",
          "shell.execute_reply": "2025-04-23T11:11:09.822403Z"
        },
        "trusted": true,
        "id": "fFcbig8AWut5"
      },
      "outputs": [],
      "execution_count": null
    },
    {
      "cell_type": "markdown",
      "source": [
        "### 2.6 Trips by weekday and hour"
      ],
      "metadata": {
        "id": "_w2ubBJOWut6"
      }
    },
    {
      "cell_type": "code",
      "source": [
        "#Grouping by Hour and weekday\n",
        "df_weekday_hour_grouped = df.groupby(['Weekday','Hour'], sort = False).count()\n",
        "\n",
        "#Creating the grouped DataFrame\n",
        "df_weekday_hour = pd.DataFrame({'Number_of_trips':df_weekday_hour_grouped.values[:,1]}, index = df_weekday_hour_grouped.index)\n",
        "\n",
        "df_weekday_hour"
      ],
      "metadata": {
        "execution": {
          "iopub.status.busy": "2025-04-23T11:11:14.519971Z",
          "iopub.execute_input": "2025-04-23T11:11:14.520533Z",
          "iopub.status.idle": "2025-04-23T11:11:15.478629Z",
          "shell.execute_reply.started": "2025-04-23T11:11:14.520471Z",
          "shell.execute_reply": "2025-04-23T11:11:15.477606Z"
        },
        "trusted": true,
        "id": "5ezUzU1CWut6"
      },
      "outputs": [],
      "execution_count": null
    },
    {
      "cell_type": "code",
      "source": [
        "#Reseting the Index\n",
        "df_weekday_hour.reset_index(inplace= True)\n",
        "\n",
        "#Preparing the Number of trips data\n",
        "data_weekday_hour = df_weekday_hour['Number_of_trips'].values.reshape(7,24)\n",
        "\n",
        "df_weekday_hour = pd.DataFrame(data = data_weekday_hour, index = df_weekday_hour['Weekday'].unique(), columns = df['Hour'].unique())\n",
        "df_weekday_hour.head()"
      ],
      "metadata": {
        "execution": {
          "iopub.status.busy": "2025-04-23T11:11:18.799922Z",
          "iopub.execute_input": "2025-04-23T11:11:18.800261Z",
          "iopub.status.idle": "2025-04-23T11:11:18.841219Z",
          "shell.execute_reply.started": "2025-04-23T11:11:18.800236Z",
          "shell.execute_reply": "2025-04-23T11:11:18.840176Z"
        },
        "trusted": true,
        "id": "dyxH6zCjWut7"
      },
      "outputs": [],
      "execution_count": null
    },
    {
      "cell_type": "markdown",
      "source": [
        "#### Plotting the results"
      ],
      "metadata": {
        "id": "m7oZKvgkWut8"
      }
    },
    {
      "cell_type": "code",
      "source": [
        "df_weekday_hour.plot(kind='bar', figsize=(20,6), width = 0.7)\n",
        "\n",
        "plt.xlabel('Weekday')\n",
        "plt.ylabel('Number of Trips')\n",
        "plt.title('Trips by Hour and Weekday')\n",
        "\n",
        "plt.show()"
      ],
      "metadata": {
        "execution": {
          "iopub.status.busy": "2025-04-23T11:11:22.979861Z",
          "iopub.execute_input": "2025-04-23T11:11:22.980663Z",
          "iopub.status.idle": "2025-04-23T11:11:23.720144Z",
          "shell.execute_reply.started": "2025-04-23T11:11:22.98063Z",
          "shell.execute_reply": "2025-04-23T11:11:23.718894Z"
        },
        "trusted": true,
        "id": "gaJsSOEBWut8"
      },
      "outputs": [],
      "execution_count": null
    },
    {
      "cell_type": "markdown",
      "source": [
        "#### Analysing the results"
      ],
      "metadata": {
        "id": "2I-COSbDWut9"
      }
    },
    {
      "cell_type": "markdown",
      "source": [
        "We see that in working days there's a pulse at 7:00 and 8:00, it corresponds to the hour where the employees go to work. This pulse is not present on weekend days.\n",
        "\n",
        "At the same time we see that on weekend days the number of trips around midnight, 1:00 and 2:00 is higher than on working days."
      ],
      "metadata": {
        "id": "fzQeohR3Wut9"
      }
    },
    {
      "cell_type": "markdown",
      "source": [
        "### 2.7 Trips by weekday and month\n"
      ],
      "metadata": {
        "id": "SYQtFCycWut-"
      }
    },
    {
      "cell_type": "code",
      "source": [
        "#Grouping by Weekday and Month\n",
        "df_month_weekday_grouped = df.groupby(['Month','Weekday'], sort=False).count()\n",
        "\n",
        "#Creating the grouped DataFrame\n",
        "df_month_weekday = pd.DataFrame({'Number_of_trips':df_month_weekday_grouped.values[:,1]}, index = df_month_weekday_grouped.index)\n",
        "\n",
        "df_month_weekday.head(10)"
      ],
      "metadata": {
        "execution": {
          "iopub.status.busy": "2025-04-23T11:11:32.020828Z",
          "iopub.execute_input": "2025-04-23T11:11:32.021202Z",
          "iopub.status.idle": "2025-04-23T11:11:33.043519Z",
          "shell.execute_reply.started": "2025-04-23T11:11:32.021171Z",
          "shell.execute_reply": "2025-04-23T11:11:33.042373Z"
        },
        "trusted": true,
        "id": "ETR_dwUSWut-"
      },
      "outputs": [],
      "execution_count": null
    },
    {
      "cell_type": "code",
      "source": [
        "#Reseting the Index\n",
        "df_month_weekday.reset_index(inplace= True)\n",
        "\n",
        "#Preparing the Number of trips\n",
        "data_month_weekday = df_month_weekday['Number_of_trips'].values.reshape(6,7)\n",
        "\n",
        "df_month_weekday = pd.DataFrame(data = data_month_weekday, index = df_month_weekday['Month'].unique(), columns = df['Weekday'].unique())\n",
        "df_month_weekday.head()"
      ],
      "metadata": {
        "execution": {
          "iopub.status.busy": "2025-04-23T11:11:35.585243Z",
          "iopub.execute_input": "2025-04-23T11:11:35.585662Z",
          "iopub.status.idle": "2025-04-23T11:11:35.849166Z",
          "shell.execute_reply.started": "2025-04-23T11:11:35.585632Z",
          "shell.execute_reply": "2025-04-23T11:11:35.848051Z"
        },
        "trusted": true,
        "id": "Rnv8xC7wWut_"
      },
      "outputs": [],
      "execution_count": null
    },
    {
      "cell_type": "markdown",
      "source": [
        "#### Plotting the results"
      ],
      "metadata": {
        "id": "HAFs1SrPWut_"
      }
    },
    {
      "cell_type": "code",
      "source": [
        "df_month_weekday.plot(kind='bar', figsize=(8,6), stacked = True)\n",
        "\n",
        "plt.xlabel('Month')\n",
        "plt.ylabel('Number of Trips')\n",
        "plt.title('Trips by Month and Weekday')\n",
        "\n",
        "plt.show()"
      ],
      "metadata": {
        "execution": {
          "iopub.status.busy": "2025-04-23T11:11:39.679825Z",
          "iopub.execute_input": "2025-04-23T11:11:39.680169Z",
          "iopub.status.idle": "2025-04-23T11:11:40.180665Z",
          "shell.execute_reply.started": "2025-04-23T11:11:39.680145Z",
          "shell.execute_reply": "2025-04-23T11:11:40.179415Z"
        },
        "trusted": true,
        "id": "VRF6ZDW3WuuA"
      },
      "outputs": [],
      "execution_count": null
    },
    {
      "cell_type": "code",
      "source": [
        "df_month_weekday.plot(kind='bar', figsize=(18,6), width = 0.6)\n",
        "\n",
        "plt.xlabel('Month')\n",
        "plt.ylabel('Number of Trips')\n",
        "plt.title('Trips by Month and Weekday')\n",
        "\n",
        "plt.show()"
      ],
      "metadata": {
        "execution": {
          "iopub.status.busy": "2025-04-23T11:11:43.000045Z",
          "iopub.execute_input": "2025-04-23T11:11:43.000463Z",
          "iopub.status.idle": "2025-04-23T11:11:43.36217Z",
          "shell.execute_reply.started": "2025-04-23T11:11:43.000433Z",
          "shell.execute_reply": "2025-04-23T11:11:43.36102Z"
        },
        "trusted": true,
        "id": "RuF53brEWuuA"
      },
      "outputs": [],
      "execution_count": null
    },
    {
      "cell_type": "markdown",
      "source": [
        "# 3. Heatmap"
      ],
      "metadata": {
        "id": "mz3dxg6vWuuB"
      }
    },
    {
      "cell_type": "markdown",
      "source": [
        "Through our exploration we are going to visualize:\n",
        "- Heatmap by Hour and Day.\n",
        "- Heatmap by Hour and Weekday.\n",
        "- Heatmap by Month and Day.\n",
        "- Heatmap by Month and Weekday."
      ],
      "metadata": {
        "id": "MRpbQJKrWuuB"
      }
    },
    {
      "cell_type": "code",
      "source": [
        "#Defining a function that counts the number of rows\n",
        "def count_rows(rows):\n",
        "    return len(rows)"
      ],
      "metadata": {
        "execution": {
          "iopub.status.busy": "2025-04-23T11:11:48.419304Z",
          "iopub.execute_input": "2025-04-23T11:11:48.419679Z",
          "iopub.status.idle": "2025-04-23T11:11:48.424796Z",
          "shell.execute_reply.started": "2025-04-23T11:11:48.419651Z",
          "shell.execute_reply": "2025-04-23T11:11:48.423359Z"
        },
        "trusted": true,
        "id": "IC37JJWwWuuC"
      },
      "outputs": [],
      "execution_count": null
    },
    {
      "cell_type": "markdown",
      "source": [
        "### 3.1 Heatmap by Hour and Day"
      ],
      "metadata": {
        "id": "txFBLPrsWuuC"
      }
    },
    {
      "cell_type": "code",
      "source": [
        "#Creating the hour and day dataframe\n",
        "df_hour_day = df.groupby('Hour Day'.split()).apply(count_rows).unstack()\n",
        "df_hour_day.head()"
      ],
      "metadata": {
        "execution": {
          "iopub.status.busy": "2025-04-23T11:11:51.724724Z",
          "iopub.execute_input": "2025-04-23T11:11:51.725081Z",
          "iopub.status.idle": "2025-04-23T11:11:52.614186Z",
          "shell.execute_reply.started": "2025-04-23T11:11:51.725053Z",
          "shell.execute_reply": "2025-04-23T11:11:52.613189Z"
        },
        "trusted": true,
        "id": "6xNEQwdXWuuD"
      },
      "outputs": [],
      "execution_count": null
    },
    {
      "cell_type": "code",
      "source": [
        "plt.figure(figsize = (12,8))\n",
        "\n",
        "#Using the seaborn heatmap function\n",
        "ax = sns.heatmap(df_hour_day, cmap=cm.YlGnBu, linewidth = .5)\n",
        "ax.set(title=\"Trips by Hour and Day\");"
      ],
      "metadata": {
        "scrolled": true,
        "execution": {
          "iopub.status.busy": "2025-04-23T11:11:56.019644Z",
          "iopub.execute_input": "2025-04-23T11:11:56.020003Z",
          "iopub.status.idle": "2025-04-23T11:11:56.668975Z",
          "shell.execute_reply.started": "2025-04-23T11:11:56.019976Z",
          "shell.execute_reply": "2025-04-23T11:11:56.667769Z"
        },
        "trusted": true,
        "id": "hXt0MwIpWuuD"
      },
      "outputs": [],
      "execution_count": null
    },
    {
      "cell_type": "markdown",
      "source": [
        "#### Analysing the results"
      ],
      "metadata": {
        "id": "8dasdk7SWuuE"
      }
    },
    {
      "cell_type": "markdown",
      "source": [
        "We see that the number of trips in increasing throughout the day, with a peak demand in the evening between 16:00 and 18:00.\n",
        "\n",
        "It corresponds to the time where employees finish their work and go home."
      ],
      "metadata": {
        "id": "s33ZsCMIWuuE"
      }
    },
    {
      "cell_type": "markdown",
      "source": [
        "### 3.2 Heatmap by Hour and Weekday"
      ],
      "metadata": {
        "id": "5_4om3VJWuuE"
      }
    },
    {
      "cell_type": "code",
      "source": [
        "df_hour_weekday = df.groupby('Hour Weekday'.split(), sort = False).apply(count_rows).unstack()\n",
        "df_hour_weekday.head()"
      ],
      "metadata": {
        "execution": {
          "iopub.status.busy": "2025-04-23T11:12:21.939899Z",
          "iopub.execute_input": "2025-04-23T11:12:21.940264Z",
          "iopub.status.idle": "2025-04-23T11:12:23.023868Z",
          "shell.execute_reply.started": "2025-04-23T11:12:21.940233Z",
          "shell.execute_reply": "2025-04-23T11:12:23.022864Z"
        },
        "trusted": true,
        "id": "w49YnACSWuuF"
      },
      "outputs": [],
      "execution_count": null
    },
    {
      "cell_type": "code",
      "source": [
        "plt.figure(figsize = (12,8))\n",
        "\n",
        "ax = sns.heatmap(df_hour_weekday, cmap=cm.YlGnBu, linewidth = .5)\n",
        "ax.set(title=\"Trips by Hour and Weekday\");"
      ],
      "metadata": {
        "execution": {
          "iopub.status.busy": "2025-04-23T11:12:25.93928Z",
          "iopub.execute_input": "2025-04-23T11:12:25.940196Z",
          "iopub.status.idle": "2025-04-23T11:12:26.459512Z",
          "shell.execute_reply.started": "2025-04-23T11:12:25.940162Z",
          "shell.execute_reply": "2025-04-23T11:12:26.458371Z"
        },
        "trusted": true,
        "id": "TVGkBhCdWuuF"
      },
      "outputs": [],
      "execution_count": null
    },
    {
      "cell_type": "markdown",
      "source": [
        "#### Analysing the results"
      ],
      "metadata": {
        "id": "0kg8B6v2WuuG"
      }
    },
    {
      "cell_type": "markdown",
      "source": [
        "We can see that on working days (From Monday to Friday) the number of trips is higher from 16:00 to 21:00. It shows even better what we said from the first heatmap.\n",
        "\n",
        "On Friday the number of trips remains high until 23:00 and continues on early Saturday. It corresponds to the time where people come out from work, then go out for dinner or drink before the weekend.\n",
        "\n",
        "We can notice the same pattern on Saturday, people tend to go out at night, the number of trips remains on high until early Sunday."
      ],
      "metadata": {
        "id": "dtOuah_0WuuG"
      }
    },
    {
      "cell_type": "markdown",
      "source": [
        "### 3.3 Heatmap by Day and Month"
      ],
      "metadata": {
        "id": "d9Y6hT10WuuH"
      }
    },
    {
      "cell_type": "code",
      "source": [
        "df_day_month = df.groupby('Day Month'.split(), sort = False).apply(count_rows).unstack()\n",
        "df_day_month.head()"
      ],
      "metadata": {
        "execution": {
          "iopub.status.busy": "2025-04-23T11:12:38.704903Z",
          "iopub.execute_input": "2025-04-23T11:12:38.705339Z",
          "iopub.status.idle": "2025-04-23T11:12:39.765821Z",
          "shell.execute_reply.started": "2025-04-23T11:12:38.705285Z",
          "shell.execute_reply": "2025-04-23T11:12:39.764637Z"
        },
        "trusted": true,
        "id": "R2SbE0RwWuuH"
      },
      "outputs": [],
      "execution_count": null
    },
    {
      "cell_type": "code",
      "source": [
        "plt.figure(figsize = (12,8))\n",
        "\n",
        "ax = sns.heatmap(df_day_month, cmap = cm.YlGnBu, linewidth = .5)\n",
        "ax.set(title=\"Trips by Day and Month\");"
      ],
      "metadata": {
        "execution": {
          "iopub.status.busy": "2025-04-23T11:12:42.219732Z",
          "iopub.execute_input": "2025-04-23T11:12:42.220137Z",
          "iopub.status.idle": "2025-04-23T11:12:42.741687Z",
          "shell.execute_reply.started": "2025-04-23T11:12:42.220106Z",
          "shell.execute_reply": "2025-04-23T11:12:42.740404Z"
        },
        "trusted": true,
        "id": "YXN2L534WuuH"
      },
      "outputs": [],
      "execution_count": null
    },
    {
      "cell_type": "markdown",
      "source": [
        "#### Analysing the results"
      ],
      "metadata": {
        "id": "IgMv-mGvWuuI"
      }
    },
    {
      "cell_type": "markdown",
      "source": [
        "We observe that the number of trips increases each month, we can say that from April to September 2014, Uber was in a continuous improvement process.\n",
        "\n",
        "We can notice from the visualization a dark spot, it corresponds to the 30 April. The number of trips that day was extreme compared to the rest of the month.\n",
        "\n",
        "Unfortunatly we have not been able to find any factual information to explain the pulse. A successful marketing strategy can be assumed to be in place that days. So as the analysis go on we consider that day an outliner."
      ],
      "metadata": {
        "id": "fmdfQHDmWuuI"
      }
    },
    {
      "cell_type": "code",
      "source": [
        "#The number of trips the 30th of April\n",
        "max_april = max(df_day_month['April'])\n",
        "\n",
        "#The mean number of trips the rest of April\n",
        "mean_rest_april = df_day_month['April'][0:29].sum() / 29\n",
        "\n",
        "ratio_april = round(max_april / mean_rest_april)\n",
        "print('The number of trips the 30th of April is {} times higher than the mean number of trips during the rest of the month'.format(ratio_april))"
      ],
      "metadata": {
        "execution": {
          "iopub.status.busy": "2025-04-23T11:12:50.619846Z",
          "iopub.execute_input": "2025-04-23T11:12:50.620206Z",
          "iopub.status.idle": "2025-04-23T11:12:50.627069Z",
          "shell.execute_reply.started": "2025-04-23T11:12:50.62018Z",
          "shell.execute_reply": "2025-04-23T11:12:50.625981Z"
        },
        "trusted": true,
        "id": "cYK31HHbWuuJ"
      },
      "outputs": [],
      "execution_count": null
    },
    {
      "cell_type": "markdown",
      "source": [
        "### 3.4 Heatmap by Month and Weekday"
      ],
      "metadata": {
        "id": "PnvTbZ46WuuJ"
      }
    },
    {
      "cell_type": "code",
      "source": [
        "df_month_weekday = df.groupby('Month Weekday'.split(), sort = False).apply(count_rows).unstack()\n",
        "df_month_weekday.head()"
      ],
      "metadata": {
        "execution": {
          "iopub.status.busy": "2025-04-23T11:12:54.620027Z",
          "iopub.execute_input": "2025-04-23T11:12:54.620411Z",
          "iopub.status.idle": "2025-04-23T11:12:55.952576Z",
          "shell.execute_reply.started": "2025-04-23T11:12:54.620381Z",
          "shell.execute_reply": "2025-04-23T11:12:55.951554Z"
        },
        "trusted": true,
        "id": "F2XnIPWIWuuK"
      },
      "outputs": [],
      "execution_count": null
    },
    {
      "cell_type": "code",
      "source": [
        "plt.figure(figsize = (12,8))\n",
        "\n",
        "ax = sns.heatmap(df_month_weekday, cmap= cm.YlGnBu, linewidth = .5)\n",
        "ax.set(title=\"Trips by Month and Weekday\");"
      ],
      "metadata": {
        "execution": {
          "iopub.status.busy": "2025-04-23T11:12:58.019991Z",
          "iopub.execute_input": "2025-04-23T11:12:58.02039Z",
          "iopub.status.idle": "2025-04-23T11:12:58.392175Z",
          "shell.execute_reply.started": "2025-04-23T11:12:58.020357Z",
          "shell.execute_reply": "2025-04-23T11:12:58.391103Z"
        },
        "trusted": true,
        "id": "zfGltY9rWuuK"
      },
      "outputs": [],
      "execution_count": null
    },
    {
      "cell_type": "markdown",
      "source": [
        "# 4. Conclusion"
      ],
      "metadata": {
        "id": "DqIU98QyWuuL"
      }
    },
    {
      "cell_type": "markdown",
      "source": [
        "Through our analysis of the Uber Pickups in New York City data set in 2014, we managed to get the following informations:\n",
        "- The peak demand hour 17:00.\n",
        "- The main customer category are workers.\n",
        "- An indicator of Uber's improvement from April to September.\n",
        "- People tend to use Uber to go to work around 7:00 and 8:00 on working days.\n",
        "- People tend to use Uber late at night (around midnight) during weekends.\n",
        "- We should investigate why people don't use uber on Mondays as much as they do on other working days."
      ],
      "metadata": {
        "id": "DRn2qbBjWuuL"
      }
    },
    {
      "cell_type": "markdown",
      "source": [
        "# **Exploratory Data Analysis**"
      ],
      "metadata": {
        "id": "EjM1mRNTXvZb"
      }
    },
    {
      "cell_type": "code",
      "source": [
        "!pip install calmap"
      ],
      "metadata": {
        "trusted": true,
        "execution": {
          "iopub.status.busy": "2025-04-24T08:50:26.309011Z",
          "iopub.execute_input": "2025-04-24T08:50:26.309385Z",
          "iopub.status.idle": "2025-04-24T08:50:37.860306Z",
          "shell.execute_reply.started": "2025-04-24T08:50:26.309354Z",
          "shell.execute_reply": "2025-04-24T08:50:37.859286Z"
        },
        "id": "PAuY7p4hWuuL"
      },
      "outputs": [],
      "execution_count": null
    },
    {
      "cell_type": "code",
      "source": [
        "import pandas as pd\n",
        "import numpy as np\n",
        "import matplotlib.pyplot as plt\n",
        "import seaborn as sns\n",
        "from sklearn.model_selection import train_test_split, cross_val_score\n",
        "from sklearn.ensemble import RandomForestRegressor\n",
        "from xgboost import XGBRegressor\n",
        "from lightgbm import LGBMRegressor\n",
        "from sklearn.metrics import r2_score, mean_squared_error\n",
        "import calmap\n",
        "import plotly.express as px\n",
        "from statsmodels.tsa.seasonal import seasonal_decompose\n",
        "\n",
        "# Load and prepare data\n",
        "df = pd.concat([df_apr14, df_may14, df_jun14, df_jul14, df_aug14, df_sep14])\n",
        "df['Date_time'] = pd.to_datetime(df['Date/Time'])\n",
        "df = df.rename(columns={'Base': 'dispatching_base_number'})\n",
        "\n",
        "# Extract temporal features\n",
        "df['date'] = df['Date_time'].dt.date\n",
        "df['day_of_week'] = df['Date_time'].dt.day_name()\n",
        "df['hour'] = df['Date_time'].dt.hour\n",
        "df['month'] = df['Date_time'].dt.month_name()"
      ],
      "metadata": {
        "trusted": true,
        "execution": {
          "iopub.status.busy": "2025-04-24T09:22:59.09125Z",
          "iopub.execute_input": "2025-04-24T09:22:59.091618Z",
          "iopub.status.idle": "2025-04-24T09:23:05.34392Z",
          "shell.execute_reply.started": "2025-04-24T09:22:59.09159Z",
          "shell.execute_reply": "2025-04-24T09:23:05.343099Z"
        },
        "id": "SHiotYcHWuuM"
      },
      "outputs": [],
      "execution_count": null
    },
    {
      "cell_type": "code",
      "source": [
        "df.head()"
      ],
      "metadata": {
        "trusted": true,
        "execution": {
          "iopub.status.busy": "2025-04-24T09:23:05.345571Z",
          "iopub.execute_input": "2025-04-24T09:23:05.345949Z",
          "iopub.status.idle": "2025-04-24T09:23:05.359685Z",
          "shell.execute_reply.started": "2025-04-24T09:23:05.345915Z",
          "shell.execute_reply": "2025-04-24T09:23:05.358558Z"
        },
        "id": "nBZ6TFPkWuuM"
      },
      "outputs": [],
      "execution_count": null
    },
    {
      "cell_type": "code",
      "source": [
        "plt.figure(figsize=(12, 6))\n",
        "df.groupby('date').size().plot()\n",
        "plt.title('Daily Uber Pickups (Apr-Sep 2014)')\n",
        "plt.ylabel('Total Trips')\n",
        "plt.xlabel('Date')\n",
        "plt.grid()\n",
        "plt.show()"
      ],
      "metadata": {
        "trusted": true,
        "execution": {
          "iopub.status.busy": "2025-04-24T09:23:08.349412Z",
          "iopub.execute_input": "2025-04-24T09:23:08.35014Z",
          "iopub.status.idle": "2025-04-24T09:23:09.08599Z",
          "shell.execute_reply.started": "2025-04-24T09:23:08.35011Z",
          "shell.execute_reply": "2025-04-24T09:23:09.085057Z"
        },
        "id": "SRVCnCR_WuuN"
      },
      "outputs": [],
      "execution_count": null
    },
    {
      "cell_type": "code",
      "source": [
        "# Group by hour and plot\n",
        "plt.figure(figsize=(12, 6))\n",
        "df.groupby('hour').size().plot(kind='bar', color='skyblue')\n",
        "plt.title('Popular Pickup Hours')\n",
        "plt.xlabel('Hour of Day')\n",
        "plt.ylabel('Total Trips')\n",
        "plt.xticks(rotation=0)\n",
        "plt.show()"
      ],
      "metadata": {
        "trusted": true,
        "execution": {
          "iopub.status.busy": "2025-04-24T09:23:18.284769Z",
          "iopub.execute_input": "2025-04-24T09:23:18.285139Z",
          "iopub.status.idle": "2025-04-24T09:23:18.867122Z",
          "shell.execute_reply.started": "2025-04-24T09:23:18.28511Z",
          "shell.execute_reply": "2025-04-24T09:23:18.866201Z"
        },
        "id": "mzoo8qRxWuuN"
      },
      "outputs": [],
      "execution_count": null
    },
    {
      "cell_type": "code",
      "source": [
        "# Group by day of the week\n",
        "plt.figure(figsize=(10, 5))\n",
        "order = ['Monday', 'Tuesday', 'Wednesday', 'Thursday', 'Friday', 'Saturday', 'Sunday']\n",
        "df['day_of_week'] = pd.Categorical(df['day_of_week'], categories=order, ordered=True)\n",
        "df.groupby('day_of_week').size().plot(kind='bar', color='violet')\n",
        "plt.title('Trips by Day of the Week')\n",
        "plt.xlabel('Day')\n",
        "plt.ylabel('Total Trips')\n",
        "plt.show()"
      ],
      "metadata": {
        "trusted": true,
        "execution": {
          "iopub.status.busy": "2025-04-24T09:23:21.711611Z",
          "iopub.execute_input": "2025-04-24T09:23:21.712261Z",
          "iopub.status.idle": "2025-04-24T09:23:22.353059Z",
          "shell.execute_reply.started": "2025-04-24T09:23:21.712229Z",
          "shell.execute_reply": "2025-04-24T09:23:22.352111Z"
        },
        "id": "m_3pFmD4WuuO"
      },
      "outputs": [],
      "execution_count": null
    },
    {
      "cell_type": "code",
      "source": [
        "plt.figure(figsize=(10, 6))\n",
        "df['dispatching_base_number'].value_counts().sort_values().plot(kind='barh')\n",
        "plt.title('Trips by Uber Base')\n",
        "plt.xlabel('Total Trips')\n",
        "plt.ylabel('Base Number')\n",
        "plt.show()"
      ],
      "metadata": {
        "trusted": true,
        "execution": {
          "iopub.status.busy": "2025-04-24T09:23:26.777606Z",
          "iopub.execute_input": "2025-04-24T09:23:26.778398Z",
          "iopub.status.idle": "2025-04-24T09:23:27.32587Z",
          "shell.execute_reply.started": "2025-04-24T09:23:26.778362Z",
          "shell.execute_reply": "2025-04-24T09:23:27.324746Z"
        },
        "id": "tZYClj3CWuuO"
      },
      "outputs": [],
      "execution_count": null
    },
    {
      "cell_type": "code",
      "source": [
        "daily_trips = df.groupby('date').size()\n",
        "result = seasonal_decompose(daily_trips, model='additive', period=7)\n",
        "result.plot()\n",
        "plt.xticks(rotation=45)\n",
        "plt.tight_layout()\n",
        "plt.show()"
      ],
      "metadata": {
        "trusted": true,
        "execution": {
          "iopub.status.busy": "2025-04-24T09:23:30.865165Z",
          "iopub.execute_input": "2025-04-24T09:23:30.86601Z",
          "iopub.status.idle": "2025-04-24T09:23:32.33659Z",
          "shell.execute_reply.started": "2025-04-24T09:23:30.865971Z",
          "shell.execute_reply": "2025-04-24T09:23:32.335649Z"
        },
        "id": "m97MDjkCWuuP"
      },
      "outputs": [],
      "execution_count": null
    },
    {
      "cell_type": "code",
      "source": [
        "daily_trips.index = pd.to_datetime(daily_trips.index)"
      ],
      "metadata": {
        "trusted": true,
        "execution": {
          "iopub.status.busy": "2025-04-24T09:23:36.095564Z",
          "iopub.execute_input": "2025-04-24T09:23:36.096308Z",
          "iopub.status.idle": "2025-04-24T09:23:36.101106Z",
          "shell.execute_reply.started": "2025-04-24T09:23:36.096279Z",
          "shell.execute_reply": "2025-04-24T09:23:36.100052Z"
        },
        "id": "xXlSMKFIWuuP"
      },
      "outputs": [],
      "execution_count": null
    },
    {
      "cell_type": "code",
      "source": [
        "plt.figure(figsize=(16,8))\n",
        "calmap.calendarplot(daily_trips, monthticks=1, daylabels='MTWTFSS',\n",
        "                    cmap='YlGn', fillcolor='lightgrey',\n",
        "                    linewidth=0.5, fig_kws={'figsize': (16,8)})\n",
        "plt.title('Daily Uber Trips Calendar View')\n",
        "plt.show()"
      ],
      "metadata": {
        "trusted": true,
        "execution": {
          "iopub.status.busy": "2025-04-24T09:23:38.019715Z",
          "iopub.execute_input": "2025-04-24T09:23:38.020471Z",
          "iopub.status.idle": "2025-04-24T09:23:38.303673Z",
          "shell.execute_reply.started": "2025-04-24T09:23:38.020439Z",
          "shell.execute_reply": "2025-04-24T09:23:38.302406Z"
        },
        "id": "mMEYrcaAWuuQ"
      },
      "outputs": [],
      "execution_count": null
    },
    {
      "cell_type": "code",
      "source": [
        "# Create target variable (hourly trips)\n",
        "hourly_trips = df.groupby(['date', 'hour', 'dispatching_base_number']).size().reset_index(name='trips')\n",
        "\n",
        "# Feature engineering\n",
        "hourly_trips['day_of_week'] = pd.to_datetime(hourly_trips['date']).dt.day_name()\n",
        "hourly_trips['month'] = pd.to_datetime(hourly_trips['date']).dt.month_name()\n",
        "hourly_trips['weekend'] = hourly_trips['day_of_week'].isin(['Saturday', 'Sunday']).astype(int)\n",
        "hourly_trips['peak_hour'] = hourly_trips['hour'].apply(lambda x: 1 if (7<=x<=9) | (17<=x<=19) else 0)\n",
        "\n",
        "# Lag features\n",
        "hourly_trips['lag_24'] = hourly_trips.groupby(['dispatching_base_number'])['trips'].shift(24)\n",
        "hourly_trips['lag_168'] = hourly_trips.groupby(['dispatching_base_number'])['trips'].shift(168)\n",
        "hourly_trips = hourly_trips.dropna()\n",
        "\n",
        "# One-hot encoding\n",
        "features = pd.get_dummies(hourly_trips, columns=['dispatching_base_number', 'day_of_week', 'month'])"
      ],
      "metadata": {
        "trusted": true,
        "execution": {
          "iopub.status.busy": "2025-04-24T09:23:41.114952Z",
          "iopub.execute_input": "2025-04-24T09:23:41.115675Z",
          "iopub.status.idle": "2025-04-24T09:23:42.10504Z",
          "shell.execute_reply.started": "2025-04-24T09:23:41.115632Z",
          "shell.execute_reply": "2025-04-24T09:23:42.104228Z"
        },
        "id": "55uGmlpeWuuQ"
      },
      "outputs": [],
      "execution_count": null
    },
    {
      "cell_type": "markdown",
      "source": [
        "# **Uber Daily trips Demand Prediction**"
      ],
      "metadata": {
        "id": "0XXG0jdOW2TD"
      }
    },
    {
      "cell_type": "code",
      "source": [
        "# Prepare data\n",
        "X = features.drop(['date', 'trips'], axis=1)\n",
        "y = features['trips']\n",
        "\n",
        "# Train-test split (last 2 weeks for testing)\n",
        "split_date = pd.to_datetime('2014-09-15')\n",
        "train = features[pd.to_datetime(features['date']) < split_date]\n",
        "test = features[pd.to_datetime(features['date']) >= split_date]\n",
        "\n",
        "X_train, y_train = train.drop(['date', 'trips'], axis=1), train['trips']\n",
        "X_test, y_test = test.drop(['date', 'trips'], axis=1), test['trips']\n",
        "\n",
        "# Define models\n",
        "models = {\n",
        "    'Random Forest': RandomForestRegressor(random_state=42),\n",
        "    'XGBoost': XGBRegressor(random_state=42),\n",
        "    'LightGBM': LGBMRegressor(random_state=42)\n",
        "}\n",
        "\n",
        "# Model evaluation\n",
        "results = []\n",
        "for name, model in models.items():\n",
        "    model.fit(X_train, y_train)\n",
        "    y_pred = model.predict(X_test)\n",
        "\n",
        "    results.append({\n",
        "        'Model': name,\n",
        "        'R2': r2_score(y_test, y_pred),\n",
        "        'RMSE': np.sqrt(mean_squared_error(y_test, y_pred))\n",
        "    })\n",
        "\n",
        "results_df = pd.DataFrame(results).sort_values('R2', ascending=False)\n",
        "results_df"
      ],
      "metadata": {
        "trusted": true,
        "execution": {
          "iopub.status.busy": "2025-04-24T09:24:13.390126Z",
          "iopub.execute_input": "2025-04-24T09:24:13.390984Z",
          "iopub.status.idle": "2025-04-24T09:24:22.046698Z",
          "shell.execute_reply.started": "2025-04-24T09:24:13.390952Z",
          "shell.execute_reply": "2025-04-24T09:24:22.04581Z"
        },
        "id": "WgMFHUdcWuuR"
      },
      "outputs": [],
      "execution_count": null
    },
    {
      "cell_type": "code",
      "source": [
        "# Generate predictions for all models\n",
        "for name, model in models.items():\n",
        "    hourly_trips[f'pred_{name.lower().replace(\" \", \"_\")}'] = model.predict(X)\n",
        "\n",
        "# Convert date to datetime for proper plotting\n",
        "hourly_trips['datetime'] = pd.to_datetime(hourly_trips['date']) + pd.to_timedelta(hourly_trips['hour'], unit='h')"
      ],
      "metadata": {
        "trusted": true,
        "execution": {
          "iopub.status.busy": "2025-04-24T09:27:58.950572Z",
          "iopub.execute_input": "2025-04-24T09:27:58.951343Z",
          "iopub.status.idle": "2025-04-24T09:27:59.608858Z",
          "shell.execute_reply.started": "2025-04-24T09:27:58.951301Z",
          "shell.execute_reply": "2025-04-24T09:27:59.607738Z"
        },
        "id": "VLmJb65jWuuR"
      },
      "outputs": [],
      "execution_count": null
    },
    {
      "cell_type": "code",
      "source": [
        "test_period = hourly_trips[hourly_trips['datetime'] >= split_date]\n",
        "\n",
        "plt.figure(figsize=(16, 6))\n",
        "\n",
        "# Plot actual values\n",
        "plt.plot(test_period['datetime'], test_period['trips'],\n",
        "         label='Actual', marker='o', markersize=4, linewidth=1.5)\n",
        "\n",
        "# Plot predictions\n",
        "for model_name in models.keys():\n",
        "    plt.plot(test_period['datetime'], test_period[f'pred_{model_name.lower().replace(\" \", \"_\")}'],\n",
        "             label=f'{model_name} Predicted', linestyle='--', linewidth=1.5)\n",
        "    break\n",
        "\n",
        "plt.title('Test Period: Actual vs Predicted Trips (Last 2 Weeks)')\n",
        "plt.ylabel('Number of Trips')\n",
        "plt.xlabel('Date')\n",
        "plt.legend()\n",
        "plt.grid(True)\n",
        "plt.xticks(rotation=45)\n",
        "plt.tight_layout()\n",
        "plt.show()"
      ],
      "metadata": {
        "trusted": true,
        "execution": {
          "iopub.status.busy": "2025-04-24T09:31:38.365059Z",
          "iopub.execute_input": "2025-04-24T09:31:38.365758Z",
          "iopub.status.idle": "2025-04-24T09:31:38.832915Z",
          "shell.execute_reply.started": "2025-04-24T09:31:38.365724Z",
          "shell.execute_reply": "2025-04-24T09:31:38.831968Z"
        },
        "id": "UKERHIe9WuuS"
      },
      "outputs": [],
      "execution_count": null
    },
    {
      "cell_type": "code",
      "source": [
        "# Create hourly aggregates\n",
        "hourly_compare = test_period.groupby('hour').agg({\n",
        "    'trips': 'mean',\n",
        "    'pred_lightgbm': 'mean',\n",
        "    'pred_random_forest': 'mean',\n",
        "    'pred_xgboost': 'mean'\n",
        "}).reset_index()\n",
        "\n",
        "plt.figure(figsize=(12, 6))\n",
        "plt.plot(hourly_compare['hour'], hourly_compare['trips'],\n",
        "         label='Actual', marker='o', linewidth=2)\n",
        "\n",
        "for model_name in models.keys():\n",
        "    plt.plot(hourly_compare['hour'], hourly_compare[f'pred_{model_name.lower().replace(\" \", \"_\")}'],\n",
        "             label=f'{model_name}', linestyle='--')\n",
        "\n",
        "plt.title('Average Hourly Pattern: Actual vs Predictions')\n",
        "plt.xlabel('Hour of Day')\n",
        "plt.ylabel('Average Trips')\n",
        "plt.xticks(range(24))\n",
        "plt.legend()\n",
        "plt.grid(True)\n",
        "plt.show()"
      ],
      "metadata": {
        "trusted": true,
        "execution": {
          "iopub.status.busy": "2025-04-24T09:29:13.170782Z",
          "iopub.execute_input": "2025-04-24T09:29:13.171121Z",
          "iopub.status.idle": "2025-04-24T09:29:13.493515Z",
          "shell.execute_reply.started": "2025-04-24T09:29:13.171098Z",
          "shell.execute_reply": "2025-04-24T09:29:13.492512Z"
        },
        "id": "QTCK_T1oWuuS"
      },
      "outputs": [],
      "execution_count": null
    },
    {
      "cell_type": "code",
      "source": [
        "import matplotlib.dates as mdates\n",
        "\n",
        "# Filter to daily aggregates\n",
        "daily_data = hourly_trips.groupby('date').agg({\n",
        "    'trips': 'sum',\n",
        "    'pred_random_forest': 'sum',\n",
        "    'pred_xgboost': 'sum',\n",
        "    'pred_lightgbm': 'sum'\n",
        "}).reset_index()\n",
        "daily_data['date'] = pd.to_datetime(daily_data['date'])\n",
        "\n",
        "# Create figure\n",
        "plt.figure(figsize=(14, 7))\n",
        "\n",
        "# Plot actual values\n",
        "plt.plot(daily_data['date'], daily_data['trips'],\n",
        "         label='Actual Trips', color='#1f77b4', linewidth=2.5, alpha=0.9)\n",
        "\n",
        "# Plot predictions\n",
        "plt.plot(daily_data['date'], daily_data['pred_random_forest'],\n",
        "         label='Random Forest Predicted', color='#ff7f0e', linestyle='--', linewidth=1.8)\n",
        "plt.plot(daily_data['date'], daily_data['pred_xgboost'],\n",
        "         label='XGBoost Predicted', color='#2ca02c', linestyle='--', linewidth=1.8)\n",
        "plt.plot(daily_data['date'], daily_data['pred_lightgbm'],\n",
        "         label='LightGBM Predicted', color='#d62728', linestyle='--', linewidth=1.8)\n",
        "\n",
        "# Highlight test period\n",
        "test_start = pd.to_datetime('2014-09-15')\n",
        "plt.axvspan(test_start, daily_data['date'].max(),\n",
        "            color='gray', alpha=0.15, label='Test Period')\n",
        "\n",
        "# Styling\n",
        "plt.title('Daily Uber Trips: Actual vs Predicted (April-October 2014)',\n",
        "          fontsize=14, pad=20)\n",
        "plt.ylabel('Total Daily Trips', fontsize=12)\n",
        "plt.xlabel('Date', fontsize=12)\n",
        "plt.grid(True, linestyle='--', alpha=0.6)\n",
        "\n",
        "# Format x-axis\n",
        "plt.gca().xaxis.set_major_locator(mdates.MonthLocator())\n",
        "plt.gca().xaxis.set_major_formatter(mdates.DateFormatter('%b %Y'))\n",
        "plt.gcf().autofmt_xdate()\n",
        "\n",
        "# Legend\n",
        "plt.legend(fontsize=10, framealpha=1)\n",
        "\n",
        "# Adjust y-axis limits\n",
        "plt.ylim(0, 45000)\n",
        "\n",
        "plt.tight_layout()\n",
        "plt.show()"
      ],
      "metadata": {
        "trusted": true,
        "execution": {
          "iopub.status.busy": "2025-04-24T09:33:34.835381Z",
          "iopub.execute_input": "2025-04-24T09:33:34.836144Z",
          "iopub.status.idle": "2025-04-24T09:33:35.25185Z",
          "shell.execute_reply.started": "2025-04-24T09:33:34.836111Z",
          "shell.execute_reply": "2025-04-24T09:33:35.250866Z"
        },
        "id": "MMobEFjOWuuT"
      },
      "outputs": [],
      "execution_count": null
    },
    {
      "cell_type": "code",
      "source": [
        "# Plot actual vs predicted\n",
        "plt.figure(figsize=(12, 6))\n",
        "test_dates = pd.to_datetime(test['date']) + pd.to_timedelta(test['hour'], unit='h')\n",
        "\n",
        "plt.plot(test_dates, y_test, label='Actual', linewidth=2)\n",
        "\n",
        "for name, model in models.items():\n",
        "    y_pred = model.predict(X_test)\n",
        "    plt.plot(test_dates, y_pred, '--', label=f'{name} Predicted', alpha=0.8)\n",
        "\n",
        "plt.title('Actual vs Predicted Hourly Uber Pickups')\n",
        "plt.xlabel('Date')\n",
        "plt.ylabel('Number of Trips')\n",
        "plt.legend()\n",
        "plt.xticks(rotation=45)\n",
        "plt.tight_layout()\n",
        "plt.show()"
      ],
      "metadata": {
        "trusted": true,
        "execution": {
          "iopub.status.busy": "2025-04-23T11:15:15.389704Z",
          "iopub.execute_input": "2025-04-23T11:15:15.390082Z",
          "iopub.status.idle": "2025-04-23T11:15:16.015046Z",
          "shell.execute_reply.started": "2025-04-23T11:15:15.390053Z",
          "shell.execute_reply": "2025-04-23T11:15:16.013969Z"
        },
        "id": "tyi5EA3RWuuU"
      },
      "outputs": [],
      "execution_count": null
    },
    {
      "cell_type": "code",
      "source": [
        "# Plot actual vs predicted\n",
        "plt.figure(figsize=(12, 6))\n",
        "test_dates = pd.to_datetime(test['date']) + pd.to_timedelta(test['hour'], unit='h')\n",
        "\n",
        "plt.plot(test_dates, y_test, label='Actual', linewidth=2)\n",
        "\n",
        "for name, model in models.items():\n",
        "    y_pred = model.predict(X_test)\n",
        "    plt.plot(test_dates, y_pred, '--', label=f'{name} Predicted', alpha=0.8)\n",
        "    break\n",
        "\n",
        "plt.title('Actual vs Predicted Hourly Uber Pickups')\n",
        "plt.xlabel('Date')\n",
        "plt.ylabel('Number of Trips')\n",
        "plt.legend()\n",
        "plt.xticks(rotation=45)\n",
        "plt.tight_layout()\n",
        "plt.show()"
      ],
      "metadata": {
        "trusted": true,
        "execution": {
          "iopub.status.busy": "2025-04-23T11:15:21.220081Z",
          "iopub.execute_input": "2025-04-23T11:15:21.220463Z",
          "iopub.status.idle": "2025-04-23T11:15:21.707808Z",
          "shell.execute_reply.started": "2025-04-23T11:15:21.220436Z",
          "shell.execute_reply": "2025-04-23T11:15:21.706691Z"
        },
        "id": "yQFkSQzwWuuV"
      },
      "outputs": [],
      "execution_count": null
    },
    {
      "cell_type": "code",
      "source": [
        "import pandas as pd\n",
        "import numpy as np\n",
        "import matplotlib.pyplot as plt\n",
        "import matplotlib.dates as mdates\n",
        "from sklearn.ensemble import RandomForestRegressor\n",
        "from xgboost import XGBRegressor\n",
        "from lightgbm import LGBMRegressor\n",
        "from sklearn.metrics import r2_score, mean_squared_error, mean_absolute_error\n",
        "import seaborn as sns\n",
        "\n",
        "# Prepare predictions for full period\n",
        "full_predictions = features[['date']].copy()\n",
        "full_predictions['Actual'] = features['trips']\n",
        "full_predictions['date'] = pd.to_datetime(full_predictions['date'])\n",
        "\n",
        "# Generate predictions for all models\n",
        "for name, model in models.items():\n",
        "    full_predictions[f'{name}_Predicted'] = model.predict(X)\n",
        "\n",
        "# Aggregate to daily level\n",
        "daily_agg = full_predictions.groupby(full_predictions['date'].dt.date).agg({\n",
        "    'Actual': 'sum',\n",
        "    'Random Forest_Predicted': 'sum',\n",
        "    'XGBoost_Predicted': 'sum',\n",
        "    'LightGBM_Predicted': 'sum'\n",
        "}).reset_index()\n",
        "daily_agg['date'] = pd.to_datetime(daily_agg['date'])"
      ],
      "metadata": {
        "trusted": true,
        "execution": {
          "iopub.status.busy": "2025-04-23T11:18:16.935669Z",
          "iopub.execute_input": "2025-04-23T11:18:16.936089Z",
          "iopub.status.idle": "2025-04-23T11:18:17.753009Z",
          "shell.execute_reply.started": "2025-04-23T11:18:16.936058Z",
          "shell.execute_reply": "2025-04-23T11:18:17.751655Z"
        },
        "id": "o6KgbqmaWuuV"
      },
      "outputs": [],
      "execution_count": null
    },
    {
      "cell_type": "code",
      "source": [
        "# Create combined visualization\n",
        "plt.figure(figsize=(16, 8))\n",
        "\n",
        "# Plot actual values\n",
        "plt.plot(daily_agg['date'], daily_agg['Actual'],\n",
        "         label='Actual Trips', color='black', linewidth=2.5)\n",
        "\n",
        "# Plot model predictions\n",
        "model_colors = {\n",
        "    'Random Forest': 'red',\n",
        "    'XGBoost': 'blue',\n",
        "    'LightGBM': 'green'\n",
        "}\n",
        "\n",
        "for model_name, color in model_colors.items():\n",
        "    plt.plot(daily_agg['date'], daily_agg[f'{model_name}_Predicted'],\n",
        "             linestyle='--', alpha=0.8, linewidth=1.5,\n",
        "             label=f'{model_name} Predicted', color=color)\n",
        "\n",
        "# Highlight test period\n",
        "test_start = pd.to_datetime('2014-09-15')\n",
        "plt.axvspan(test_start, daily_agg['date'].max(),\n",
        "            color='yellow', alpha=0.1, label='Test Period')\n",
        "\n",
        "# Formatting\n",
        "plt.title('Daily Uber Trips: Actual vs Predicted (April-October 2014)', fontsize=16)\n",
        "plt.xlabel('Date', fontsize=12)\n",
        "plt.ylabel('Total Daily Trips', fontsize=12)\n",
        "plt.gca().xaxis.set_major_locator(mdates.MonthLocator())\n",
        "plt.gca().xaxis.set_major_formatter(mdates.DateFormatter('%Y-%m'))\n",
        "plt.xticks(rotation=45)\n",
        "plt.grid(alpha=0.3)\n",
        "plt.legend(fontsize=10, bbox_to_anchor=(1.05, 1))\n",
        "plt.tight_layout()\n",
        "plt.show()"
      ],
      "metadata": {
        "trusted": true,
        "execution": {
          "iopub.status.busy": "2025-04-23T11:18:35.835656Z",
          "iopub.execute_input": "2025-04-23T11:18:35.836049Z",
          "iopub.status.idle": "2025-04-23T11:18:36.3476Z",
          "shell.execute_reply.started": "2025-04-23T11:18:35.836018Z",
          "shell.execute_reply": "2025-04-23T11:18:36.346376Z"
        },
        "id": "UELMtEdmWuuV"
      },
      "outputs": [],
      "execution_count": null
    },
    {
      "cell_type": "code",
      "source": [
        "# Individual model visualizations\n",
        "def plot_single_model(data, model_name, color):\n",
        "    plt.figure(figsize=(14, 6))\n",
        "\n",
        "    # Plot actual vs predicted\n",
        "    plt.plot(data['date'], data['Actual'],\n",
        "             label='Actual', color='black', linewidth=2)\n",
        "    plt.plot(data['date'], data[f'{model_name}_Predicted'],\n",
        "             label=f'{model_name} Predicted', linestyle='--',\n",
        "             color=color, alpha=0.8)\n",
        "\n",
        "    # Highlight test period\n",
        "    plt.axvspan(test_start, data['date'].max(),\n",
        "                color='yellow', alpha=0.1, label='Test Period')\n",
        "\n",
        "    # Formatting\n",
        "    plt.title(f'Daily Trips: {model_name} Predictions', fontsize=14)\n",
        "    plt.xlabel('Date')\n",
        "    plt.ylabel('Trips')\n",
        "    plt.gca().xaxis.set_major_locator(mdates.MonthLocator())\n",
        "    plt.xticks(rotation=45)\n",
        "    plt.grid(alpha=0.2)\n",
        "    plt.legend()\n",
        "    plt.show()\n",
        "\n",
        "# Generate individual plots\n",
        "for model_name, color in model_colors.items():\n",
        "    plot_single_model(daily_agg, model_name, color)"
      ],
      "metadata": {
        "trusted": true,
        "execution": {
          "iopub.status.busy": "2025-04-23T11:19:03.960293Z",
          "iopub.execute_input": "2025-04-23T11:19:03.960929Z",
          "iopub.status.idle": "2025-04-23T11:19:05.061964Z",
          "shell.execute_reply.started": "2025-04-23T11:19:03.96089Z",
          "shell.execute_reply": "2025-04-23T11:19:05.060481Z"
        },
        "id": "-wUEcVh2WuuW"
      },
      "outputs": [],
      "execution_count": null
    },
    {
      "cell_type": "code",
      "source": [
        "# Performance metrics table\n",
        "test_period = daily_agg[daily_agg['date'] >= test_start]\n",
        "\n",
        "metrics = []\n",
        "for model_name in models.keys():\n",
        "    metrics.append({\n",
        "        'Model': model_name,\n",
        "        'R2': r2_score(test_period['Actual'], test_period[f'{model_name}_Predicted']),\n",
        "        'MAE': mean_absolute_error(test_period['Actual'], test_period[f'{model_name}_Predicted']),\n",
        "        'RMSE': np.sqrt(mean_squared_error(test_period['Actual'], test_period[f'{model_name}_Predicted']))\n",
        "    })\n",
        "\n",
        "performance_df = pd.DataFrame(metrics).sort_values('R2', ascending=False)\n",
        "print(\"Test Period Performance Metrics:\")\n",
        "display(performance_df)"
      ],
      "metadata": {
        "trusted": true,
        "execution": {
          "iopub.status.busy": "2025-04-23T11:19:48.946161Z",
          "iopub.execute_input": "2025-04-23T11:19:48.94661Z",
          "iopub.status.idle": "2025-04-23T11:19:48.972895Z",
          "shell.execute_reply.started": "2025-04-23T11:19:48.946575Z",
          "shell.execute_reply": "2025-04-23T11:19:48.971438Z"
        },
        "id": "8j95mStDWuuW"
      },
      "outputs": [],
      "execution_count": null
    },
    {
      "cell_type": "code",
      "source": [
        "# Feature importance comparison\n",
        "plt.figure(figsize=(14, 8))\n",
        "all_importances = pd.DataFrame()\n",
        "\n",
        "for model_name, model in models.items():\n",
        "    importance = pd.DataFrame({\n",
        "        'Feature': X.columns,\n",
        "        'Importance': model.feature_importances_,\n",
        "        'Model': model_name\n",
        "    })\n",
        "    all_importances = pd.concat([all_importances, importance])\n",
        "\n",
        "top_features = all_importances.groupby('Feature')['Importance'].mean().nlargest(10).index\n",
        "sns.barplot(x='Importance', y='Feature', hue='Model',\n",
        "            data=all_importances[all_importances['Feature'].isin(top_features)])\n",
        "plt.title('Top 10 Feature Importances Across Models', fontsize=14)\n",
        "plt.tight_layout()\n",
        "plt.show()"
      ],
      "metadata": {
        "trusted": true,
        "execution": {
          "iopub.status.busy": "2025-04-23T11:22:19.619707Z",
          "iopub.execute_input": "2025-04-23T11:22:19.620075Z",
          "iopub.status.idle": "2025-04-23T11:22:20.140692Z",
          "shell.execute_reply.started": "2025-04-23T11:22:19.620048Z",
          "shell.execute_reply": "2025-04-23T11:22:20.139412Z"
        },
        "id": "8bLQauQTWuuX"
      },
      "outputs": [],
      "execution_count": null
    },
    {
      "cell_type": "code",
      "source": [
        "import pandas as pd\n",
        "\n",
        "# Ensure datetime format\n",
        "df['date'] = pd.to_datetime(df['date'])\n",
        "\n",
        "# Create proper time series dataframe\n",
        "daily_counts = df.groupby('date').size().reset_index(name='trip_count')\n",
        "daily_counts['day_of_week'] = daily_counts['date'].dt.day_name()\n",
        "daily_counts['month'] = daily_counts['date'].dt.month_name()\n",
        "daily_counts['day_of_month'] = daily_counts['date'].dt.day\n",
        "daily_counts['is_weekend'] = daily_counts['day_of_week'].isin(['Saturday', 'Sunday']).astype(int)"
      ],
      "metadata": {
        "trusted": true,
        "execution": {
          "iopub.status.busy": "2025-04-24T09:17:46.693839Z",
          "iopub.execute_input": "2025-04-24T09:17:46.694205Z",
          "iopub.status.idle": "2025-04-24T09:17:47.286721Z",
          "shell.execute_reply.started": "2025-04-24T09:17:46.694176Z",
          "shell.execute_reply": "2025-04-24T09:17:47.285842Z"
        },
        "id": "3uIDtUzCWuuY"
      },
      "outputs": [],
      "execution_count": null
    },
    {
      "cell_type": "code",
      "source": [
        "import matplotlib.pyplot as plt\n",
        "import seaborn as sns\n",
        "\n",
        "plt.figure(figsize=(15, 8))\n",
        "\n",
        "# Weekly pattern\n",
        "plt.subplot(2, 2, 1)\n",
        "sns.boxplot(data=daily_counts, x='day_of_week', y='trip_count',\n",
        "            order=['Monday','Tuesday','Wednesday','Thursday','Friday','Saturday','Sunday'])\n",
        "plt.title('Weekly Pattern')\n",
        "\n",
        "# Monthly pattern\n",
        "plt.subplot(2, 2, 2)\n",
        "sns.boxplot(data=daily_counts, x='month', y='trip_count')\n",
        "plt.title('Monthly Pattern')\n",
        "\n",
        "# Daily trend\n",
        "plt.subplot(2, 1, 2)\n",
        "plt.plot(daily_counts['date'], daily_counts['trip_count'])\n",
        "plt.title('Daily Trip Count Trend')\n",
        "plt.tight_layout()\n",
        "plt.show()"
      ],
      "metadata": {
        "trusted": true,
        "execution": {
          "iopub.status.busy": "2025-04-24T09:18:05.929267Z",
          "iopub.execute_input": "2025-04-24T09:18:05.929964Z",
          "iopub.status.idle": "2025-04-24T09:18:06.861953Z",
          "shell.execute_reply.started": "2025-04-24T09:18:05.929934Z",
          "shell.execute_reply": "2025-04-24T09:18:06.860893Z"
        },
        "id": "AyvNWSOFWuuY"
      },
      "outputs": [],
      "execution_count": null
    },
    {
      "cell_type": "code",
      "source": [
        "import pandas as pd\n",
        "import numpy as np\n",
        "import matplotlib.pyplot as plt\n",
        "from sklearn.metrics import r2_score, mean_squared_error\n",
        "from lightgbm import LGBMRegressor\n",
        "from sklearn.model_selection import TimeSeriesSplit\n",
        "import holidays\n",
        "\n",
        "# Data Preparation\n",
        "df = pd.concat([df_apr14, df_may14, df_jun14, df_jul14, df_aug14, df_sep14])\n",
        "df['Date_time'] = pd.to_datetime(df['Date/Time'])\n",
        "df = df.rename(columns={'Base': 'dispatching_base_number'})\n",
        "\n",
        "# Extract temporal features\n",
        "df['date'] = df['Date_time'].dt.date\n",
        "df['hour'] = df['Date_time'].dt.hour\n",
        "\n",
        "# Aggregate to hourly trips\n",
        "hourly_trips = df.groupby(['date', 'hour', 'dispatching_base_number']).size().reset_index(name='trips')\n",
        "\n",
        "# Enrich features\n",
        "hourly_trips['day_of_week'] = pd.to_datetime(hourly_trips['date']).dt.day_name()\n",
        "hourly_trips['month'] = pd.to_datetime(hourly_trips['date']).dt.month_name()\n",
        "hourly_trips['weekend'] = hourly_trips['day_of_week'].isin(['Saturday', 'Sunday']).astype(int)\n",
        "hourly_trips['peak_hour'] = hourly_trips['hour'].apply(lambda x: 1 if (7 <= x <= 9) or (17 <= x <= 19) else 0)\n",
        "\n",
        "# Lag and rolling features\n",
        "for lag in [1, 2, 24, 168]:\n",
        "    hourly_trips[f'lag_{lag}'] = hourly_trips.groupby('dispatching_base_number')['trips'].shift(lag)\n",
        "hourly_trips['rolling_mean_24'] = hourly_trips.groupby('dispatching_base_number')['trips'].transform(lambda x: x.shift(1).rolling(24).mean())\n",
        "\n",
        "# Cyclical time features\n",
        "hourly_trips['hour_sin'] = np.sin(2 * np.pi * hourly_trips['hour'] / 24)\n",
        "hourly_trips['hour_cos'] = np.cos(2 * np.pi * hourly_trips['hour'] / 24)\n",
        "\n",
        "# Holiday indicator\n",
        "us_holidays = holidays.US()\n",
        "hourly_trips['is_holiday'] = pd.to_datetime(hourly_trips['date']).isin(us_holidays).astype(int)\n",
        "\n",
        "# Clean\n",
        "hourly_trips = hourly_trips.dropna()\n",
        "\n",
        "# One-hot encoding\n",
        "features = pd.get_dummies(hourly_trips, columns=['dispatching_base_number', 'day_of_week', 'month'])\n",
        "\n",
        "# Train-test split\n",
        "split_date = pd.to_datetime('2014-09-15')\n",
        "features['date'] = pd.to_datetime(features['date'])\n",
        "\n",
        "train = features[features['date'] < split_date]\n",
        "test = features[features['date'] >= split_date]\n",
        "\n",
        "X_train = train.drop(['date', 'trips'], axis=1)\n",
        "y_train = np.log1p(train['trips'])  # log transform\n",
        "\n",
        "X_test = test.drop(['date', 'trips'], axis=1)\n",
        "y_test = test['trips']\n",
        "\n",
        "# Model Training\n",
        "model = LGBMRegressor(\n",
        "    n_estimators=300,\n",
        "    learning_rate=0.05,\n",
        "    max_depth=8,\n",
        "    num_leaves=64,\n",
        "    random_state=42,\n",
        "    verbose=-1\n",
        ")\n",
        "model.fit(X_train, y_train)\n",
        "\n",
        "# Prediction\n",
        "y_pred_log = model.predict(X_test)\n",
        "y_pred = np.expm1(y_pred_log)  # reverse log\n",
        "\n",
        "# Evaluation\n",
        "r2 = r2_score(y_test, y_pred)\n",
        "rmse = np.sqrt(mean_squared_error(y_test, y_pred))\n",
        "print(f\"R² Score: {r2:.4f}\")\n",
        "print(f\"RMSE: {rmse:.2f}\")\n",
        "\n",
        "# Plotting\n",
        "plt.figure(figsize=(15, 5))\n",
        "plt.plot(y_test.values, label=\"Actual Trips\", linewidth=2)\n",
        "plt.plot(y_pred, label=\"Predicted Trips (LightGBM)\", linestyle=\"--\")\n",
        "plt.title(\"Uber Hourly Trips: Actual vs Predicted\")\n",
        "plt.xlabel(\"Test Time Index\")\n",
        "plt.ylabel(\"Trips\")\n",
        "plt.legend()\n",
        "plt.tight_layout()\n",
        "plt.show()"
      ],
      "metadata": {
        "trusted": true,
        "execution": {
          "iopub.status.busy": "2025-04-24T09:42:35.947681Z",
          "iopub.execute_input": "2025-04-24T09:42:35.948108Z",
          "iopub.status.idle": "2025-04-24T09:42:41.857583Z",
          "shell.execute_reply.started": "2025-04-24T09:42:35.94808Z",
          "shell.execute_reply": "2025-04-24T09:42:41.856642Z"
        },
        "id": "GKpdlSKZWuuY"
      },
      "outputs": [],
      "execution_count": null
    },
    {
      "cell_type": "code",
      "source": [
        "# Add predictions back to test dataframe\n",
        "test = test.copy()\n",
        "test['predicted_trips'] = y_pred\n",
        "test['actual_trips'] = y_test.values\n",
        "test['date'] = pd.to_datetime(test['date'])\n",
        "\n",
        "# Aggregate to daily\n",
        "daily_results = test.groupby('date')[['predicted_trips', 'actual_trips']].sum().reset_index()"
      ],
      "metadata": {
        "trusted": true,
        "execution": {
          "iopub.status.busy": "2025-04-24T09:43:05.535568Z",
          "iopub.execute_input": "2025-04-24T09:43:05.536238Z",
          "iopub.status.idle": "2025-04-24T09:43:05.54924Z",
          "shell.execute_reply.started": "2025-04-24T09:43:05.536209Z",
          "shell.execute_reply": "2025-04-24T09:43:05.548476Z"
        },
        "id": "ix-DWgmyWuuZ"
      },
      "outputs": [],
      "execution_count": null
    },
    {
      "cell_type": "code",
      "source": [
        "# Predict on train set for full comparison\n",
        "y_train_pred = model.predict(X_train)\n",
        "y_train_pred = np.expm1(y_train_pred)  # Inverse log\n",
        "\n",
        "# Merge predictions back into train and test sets\n",
        "train = train.copy()\n",
        "train['predicted_trips'] = y_train_pred\n",
        "train['actual_trips'] = np.expm1(y_train)  # Inverse log\n",
        "train['date'] = pd.to_datetime(train['date'])\n",
        "\n",
        "test = test.copy()\n",
        "test['predicted_trips'] = y_pred\n",
        "test['actual_trips'] = y_test.values\n",
        "test['date'] = pd.to_datetime(test['date'])\n",
        "\n",
        "# Combine train + test\n",
        "combined = pd.concat([train, test])\n",
        "\n",
        "#Aggregate to daily level\n",
        "daily_results = combined.groupby('date')[['predicted_trips', 'actual_trips']].sum().reset_index()\n",
        "\n",
        "# Plot full daily range\n",
        "import matplotlib.dates as mdates\n",
        "import matplotlib.pyplot as plt\n",
        "\n",
        "plt.figure(figsize=(16, 6))\n",
        "\n",
        "# Actual\n",
        "plt.plot(daily_results['date'], daily_results['actual_trips'], label='Actual Trips', color='steelblue', linewidth=2)\n",
        "\n",
        "# LightGBM predicted\n",
        "plt.plot(daily_results['date'], daily_results['predicted_trips'], label='LightGBM Predicted', linestyle='--', color='orange')\n",
        "\n",
        "# Highlight test period\n",
        "test_start = test['date'].min()\n",
        "test_end = test['date'].max()\n",
        "plt.axvspan(test_start, test_end, color='gray', alpha=0.2, label='Test Period')\n",
        "\n",
        "# Format x-axis\n",
        "plt.gca().xaxis.set_major_formatter(mdates.DateFormatter('%b %Y'))\n",
        "plt.gca().xaxis.set_major_locator(mdates.MonthLocator())\n",
        "plt.xticks(rotation=45)\n",
        "\n",
        "# Labels and legend\n",
        "plt.title('Daily Uber Trips: Actual vs LightGBM Predicted (April–September 2014)', fontsize=14)\n",
        "plt.xlabel('Date')\n",
        "plt.ylabel('Total Daily Trips')\n",
        "plt.legend()\n",
        "plt.grid(True)\n",
        "plt.tight_layout()\n",
        "plt.xticks(rotation=360)\n",
        "plt.show()"
      ],
      "metadata": {
        "trusted": true,
        "execution": {
          "iopub.status.busy": "2025-04-24T09:46:04.585394Z",
          "iopub.execute_input": "2025-04-24T09:46:04.585763Z",
          "iopub.status.idle": "2025-04-24T09:46:05.423278Z",
          "shell.execute_reply.started": "2025-04-24T09:46:04.585737Z",
          "shell.execute_reply": "2025-04-24T09:46:05.422343Z"
        },
        "id": "N2Po0p_qWuua"
      },
      "outputs": [],
      "execution_count": null
    },
    {
      "cell_type": "code",
      "source": [],
      "metadata": {
        "trusted": true,
        "id": "1Sofnqt7Wuub"
      },
      "outputs": [],
      "execution_count": null
    }
  ]
}